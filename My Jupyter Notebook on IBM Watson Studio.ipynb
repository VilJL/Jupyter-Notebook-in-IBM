{
    "cells": [
        {
            "metadata": {
                "collapsed": true
            },
            "cell_type": "markdown",
            "source": "# My Jupyter Notebook on IBM Watson Studio"
        },
        {
            "metadata": {},
            "cell_type": "markdown",
            "source": "**Jesus Lopez**\n\nPart-specialist from Upverter, an aspiring data scientist."
        },
        {
            "metadata": {},
            "cell_type": "markdown",
            "source": "*I am interested in data science because I like working with data and I want to use my knowledge in programming and statistics for something useful.*"
        },
        {
            "metadata": {},
            "cell_type": "markdown",
            "source": "### The next code is a function that finds the next integral perfect square after the one passed as a parameter. "
        },
        {
            "metadata": {},
            "cell_type": "code",
            "source": "def find_next_square(sq):\n    # Return the next square if sq is a square, -1 otherwise\n    num = sq ** (0.5)\n    if num.is_integer():\n        sq =(num + 1) ** 2\n        return sq\n    else:\n        return -1\n\nfind_next_square(4)",
            "execution_count": 7,
            "outputs": [
                {
                    "output_type": "execute_result",
                    "execution_count": 7,
                    "data": {
                        "text/plain": "9.0"
                    },
                    "metadata": {}
                }
            ]
        },
        {
            "metadata": {},
            "cell_type": "markdown",
            "source": "---\n```python\nnum = sq ** (0.5)\n    if num.is_integer():\n        sq =(num + 1) ** 2\n        return sq\n    else:\n        return -1\n```\n---\nFor an explanation of the function is_integer() used in the above code click [here](https://python-reference.readthedocs.io/en/latest/docs/float/is_integer.html)."
        }
    ],
    "metadata": {
        "kernelspec": {
            "name": "python3",
            "display_name": "Python 3.9",
            "language": "python"
        },
        "language_info": {
            "name": "python",
            "version": "3.9.12",
            "mimetype": "text/x-python",
            "codemirror_mode": {
                "name": "ipython",
                "version": 3
            },
            "pygments_lexer": "ipython3",
            "nbconvert_exporter": "python",
            "file_extension": ".py"
        }
    },
    "nbformat": 4,
    "nbformat_minor": 1
}